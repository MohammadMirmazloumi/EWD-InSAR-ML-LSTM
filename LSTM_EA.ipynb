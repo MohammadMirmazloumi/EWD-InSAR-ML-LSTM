{
 "cells": [
  {
   "cell_type": "code",
   "execution_count": null,
   "id": "b8989536",
   "metadata": {},
   "outputs": [],
   "source": [
    "# Required libraries\n",
    "import numpy as np\n",
    "import pandas as pd\n",
    "import matplotlib.pyplot as plt\n",
    "from sklearn.metrics import mean_absolute_error, mean_squared_error, mean_absolute_percentage_error\n",
    "from keras.models import Sequential\n",
    "from keras.layers import Dense\n",
    "from tensorflow import keras"
   ]
  },
  {
   "cell_type": "code",
   "execution_count": null,
   "id": "c113172a",
   "metadata": {},
   "outputs": [],
   "source": [
    "# Split a univariate sequence into samples for LSTM model\n",
    "def split_sequences(sequences, n_steps_in, n_steps_out):\n",
    "    X, y = list(), list()\n",
    "    for i in range(len(sequences)):\n",
    "        end_ix = i + n_steps_in\n",
    "        out_end_ix = end_ix + n_steps_out\n",
    "        if out_end_ix > len(sequences):\n",
    "            break\n",
    "        seq_x, seq_y = sequences[i:end_ix, :], sequences[end_ix:out_end_ix, :]\n",
    "        X.append(seq_x)\n",
    "        y.append(seq_y)\n",
    "    return np.array(X), np.array(y)"
   ]
  },
  {
   "cell_type": "code",
   "execution_count": null,
   "id": "966a0e6c",
   "metadata": {},
   "outputs": [],
   "source": [
    "# Load the dataset\n",
    "filepath_content = \".../BCN-HRB_Points.txt\"\n",
    "df_Lis = pd.read_csv(filepath_content, sep=\"\\t\", header=None, index_col=0)\n",
    "dataset_df = df_Lis.iloc[:, 10:]  # Selecting relevant columns (Time Series data)\n",
    "len_TS = dataset_df.shape[1]\n",
    "Anomaly_Period = 10\n",
    "len_input = len_TS - Anomaly_Period"
   ]
  },
  {
   "cell_type": "code",
   "execution_count": null,
   "id": "5be693fa",
   "metadata": {},
   "outputs": [],
   "source": [
    "# Dataset for training and testing\n",
    "dataset = dataset_df.iloc[:, Anomaly_Period:]\n",
    "test_dataset = dataset.iloc[1800:, :]\n",
    "\n",
    "# Transpose and prepare data for LSTM model\n",
    "dataset_t = dataset.transpose().values.astype('float32')\n",
    "test_dataset_t = test_dataset.transpose().values.astype('float32')"
   ]
  },
  {
   "cell_type": "code",
   "execution_count": null,
   "id": "7c4b848f",
   "metadata": {},
   "outputs": [],
   "source": [
    "# Parameters for the model\n",
    "n_steps_in, n_steps_out = 10, 1\n",
    "\n",
    "# Split dataset into input/output sequences for the model\n",
    "X, y = split_sequences(dataset_t, n_steps_in, n_steps_out)"
   ]
  },
  {
   "cell_type": "code",
   "execution_count": null,
   "id": "3370bc84",
   "metadata": {},
   "outputs": [],
   "source": [
    "# Reshape input and output data\n",
    "n_input = X.shape[1] * X.shape[2]\n",
    "X = X.reshape((X.shape[0], n_input))\n",
    "n_output = y.shape[1] * y.shape[2]\n",
    "y = y.reshape((y.shape[0], n_output))"
   ]
  },
  {
   "cell_type": "code",
   "execution_count": null,
   "id": "465b2d90",
   "metadata": {},
   "outputs": [],
   "source": [
    "# LSTM model parameters\n",
    "learning_rate = 0.1\n",
    "batch_size = 100\n",
    "epochs = 10\n",
    "units = 32"
   ]
  },
  {
   "cell_type": "code",
   "execution_count": null,
   "id": "d21cd255",
   "metadata": {},
   "outputs": [],
   "source": [
    "# Define the LSTM model\n",
    "model = Sequential()\n",
    "model.add(Dense(units, activation='relu', input_dim=n_input))\n",
    "model.add(Dense(n_output))\n",
    "opt = keras.optimizers.Adam(learning_rate=learning_rate)\n",
    "model.compile(optimizer=opt, loss='mae')"
   ]
  },
  {
   "cell_type": "code",
   "execution_count": null,
   "id": "9224b875",
   "metadata": {},
   "outputs": [],
   "source": [
    "# Train the model\n",
    "history = model.fit(X, y, epochs=epochs, batch_size=batch_size, verbose=2)"
   ]
  },
  {
   "cell_type": "code",
   "execution_count": null,
   "id": "82d2ca10",
   "metadata": {},
   "outputs": [],
   "source": [
    "# Evaluate the model\n",
    "lossT = model.evaluate(X, y, batch_size=batch_size)\n",
    "print(f'Loss: {lossT:.5f}')"
   ]
  },
  {
   "cell_type": "code",
   "execution_count": null,
   "id": "ae9540fa",
   "metadata": {},
   "outputs": [],
   "source": [
    "# Test data prediction\n",
    "x_input = test_dataset_t\n",
    "x_input = x_input.reshape((n_input, 1))\n",
    "yhat = model.predict(x_input, verbose=2)\n",
    "print(yhat)"
   ]
  }
 ],
 "metadata": {
  "kernelspec": {
   "display_name": "Python 3 (ipykernel)",
   "language": "python",
   "name": "python3"
  },
  "language_info": {
   "codemirror_mode": {
    "name": "ipython",
    "version": 3
   },
   "file_extension": ".py",
   "mimetype": "text/x-python",
   "name": "python",
   "nbconvert_exporter": "python",
   "pygments_lexer": "ipython3",
   "version": "3.9.0"
  }
 },
 "nbformat": 4,
 "nbformat_minor": 5
}
