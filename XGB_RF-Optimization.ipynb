{
 "cells": [
  {
   "cell_type": "code",
   "execution_count": null,
   "id": "2b6bcc3c",
   "metadata": {},
   "outputs": [],
   "source": [
    "# Import necessary libraries\n",
    "import numpy as np\n",
    "import pandas as pd\n",
    "from sklearn.model_selection import train_test_split\n",
    "from sklearn.metrics import mean_squared_error, mean_absolute_error, mean_absolute_percentage_error\n",
    "from sklearn.multioutput import MultiOutputRegressor\n",
    "import xgboost as xgb\n",
    "import pickle\n",
    "import scipy.stats as st"
   ]
  },
  {
   "cell_type": "code",
   "execution_count": null,
   "id": "328a78b6",
   "metadata": {},
   "outputs": [],
   "source": [
    "# Load the dataset\n",
    "filepath_content = \".../Output_geocoded_lines_Bcn_filtered_19062020_NoHeader.txt\"\n",
    "df_Lis = pd.read_csv(filepath_content, sep=\"\\t\", header=None, index_col=0)"
   ]
  },
  {
   "cell_type": "code",
   "execution_count": null,
   "id": "7ca1ecfb",
   "metadata": {},
   "outputs": [],
   "source": [
    "# Select a portion of the data for analysis\n",
    "full_df = df_Lis.iloc[100000:400000, 10:-1]\n",
    "len_full_df = full_df.shape[1]\n",
    "\n",
    "# Using data from the last year\n",
    "dataset_df = full_df.iloc[:, len_full_df - 60:]"
   ]
  },
  {
   "cell_type": "code",
   "execution_count": null,
   "id": "aa12c83b",
   "metadata": {},
   "outputs": [],
   "source": [
    "# Define anomaly period and input length for prediction\n",
    "Anomaly_Period = 10\n",
    "len_TS = dataset_df.shape[1]\n",
    "len_input = len_TS - Anomaly_Period\n",
    "\n",
    "# Prepare input features (X) and target variable (y)\n",
    "x = dataset_df.iloc[:, Anomaly_Period - 1:len_TS - 1]\n",
    "y = dataset_df.iloc[:, -1:]"
   ]
  },
  {
   "cell_type": "code",
   "execution_count": null,
   "id": "03fc7167",
   "metadata": {},
   "outputs": [],
   "source": [
    "# Split the data into training and testing sets (no shuffling for time series data)\n",
    "X_train, X_test, y_train, y_test = train_test_split(x, y, test_size=0.3, shuffle=False)\n",
    "print(f\"Train shapes: {X_train.shape}, {y_train.shape}\")\n",
    "print(f\"Test shapes: {X_test.shape}, {y_test.shape}\")"
   ]
  },
  {
   "cell_type": "code",
   "execution_count": null,
   "id": "010dc9bd",
   "metadata": {},
   "outputs": [],
   "source": [
    "# Fitting a MultiOutput XGBoost model\n",
    "regressor = MultiOutputRegressor(xgb.XGBRegressor())\n",
    "model_XGB = regressor.fit(X_train, y_train)"
   ]
  },
  {
   "cell_type": "code",
   "execution_count": null,
   "id": "bac5a15c",
   "metadata": {},
   "outputs": [],
   "source": [
    "# Save the trained model using pickle\n",
    "XGB_EA = 'XGB_EA.sav'\n",
    "pickle.dump(model_XGB, open(XGB_EA, 'wb'))"
   ]
  },
  {
   "cell_type": "code",
   "execution_count": null,
   "id": "489992c6",
   "metadata": {},
   "outputs": [],
   "source": [
    "# Evaluate the model on training data\n",
    "r2_train = model_XGB.score(X_train, y_train)\n",
    "y_train_predicted = model_XGB.predict(X_train)\n",
    "rmse_train = mean_squared_error(y_train, y_train_predicted, squared=False)\n",
    "mae_train = mean_absolute_error(y_train, y_train_predicted)\n",
    "print(f\"Train R2: {r2_train}\")\n",
    "print(f\"Train RMSE: {rmse_train}\")\n",
    "print(f\"Train MAE: {mae_train}\")"
   ]
  },
  {
   "cell_type": "code",
   "execution_count": null,
   "id": "7e5aa898",
   "metadata": {},
   "outputs": [],
   "source": [
    "# Make predictions on test data\n",
    "y_test_predicted = model_XGB.predict(X_test)\n",
    "rmse_test = mean_squared_error(y_test, y_test_predicted, squared=False)\n",
    "mae_test = mean_absolute_error(y_test, y_test_predicted)\n",
    "print(f\"Test RMSE: {rmse_test}\")\n",
    "print(f\"Test MAE: {mae_test}\")"
   ]
  },
  {
   "cell_type": "code",
   "execution_count": null,
   "id": "de3bcc75",
   "metadata": {},
   "outputs": [],
   "source": [
    "# Calculate MAPE (Mean Absolute Percentage Error)\n",
    "mape_test = mean_absolute_percentage_error(y_test, y_test_predicted)\n",
    "print(f\"Test MAPE: {mape_test * 100}%\")\n",
    "\n",
    "# Adjust MAPE calculation for values close to zero\n",
    "y_test_1 = np.where(abs(y_test) <= 0.99, 1, y_test)\n",
    "mape_test_1 = mean_absolute_percentage_error(y_test_1, y_test_predicted)\n",
    "print(f\"Adjusted Test MAPE: {mape_test_1 * 100}%\")"
   ]
  },
  {
   "cell_type": "code",
   "execution_count": null,
   "id": "722839a9",
   "metadata": {},
   "outputs": [],
   "source": [
    "# Prediction for new input data\n",
    "Input_for_prediction = dataset_df.iloc[:, :len_input]\n",
    "y_test_predicted_0 = model_XGB.predict(Input_for_prediction.iloc[0:1, :])\n",
    "print(\"Predicted values for first input: \", y_test_predicted_0)"
   ]
  },
  {
   "cell_type": "code",
   "execution_count": null,
   "id": "c44fa66d",
   "metadata": {},
   "outputs": [],
   "source": [
    "# Confidence interval calculation using the normal distribution\n",
    "x_input = Input_for_prediction.iloc[25:26, :]\n",
    "CI = st.norm.interval(alpha=0.99, loc=x_input.mean(axis=1), scale=x_input.sem(axis=1))\n",
    "print(f\"Input data: {x_input}\")\n",
    "print(f\"Confidence Interval (99%): {CI}\")"
   ]
  }
 ],
 "metadata": {
  "kernelspec": {
   "display_name": "Python 3 (ipykernel)",
   "language": "python",
   "name": "python3"
  },
  "language_info": {
   "codemirror_mode": {
    "name": "ipython",
    "version": 3
   },
   "file_extension": ".py",
   "mimetype": "text/x-python",
   "name": "python",
   "nbconvert_exporter": "python",
   "pygments_lexer": "ipython3",
   "version": "3.9.0"
  }
 },
 "nbformat": 4,
 "nbformat_minor": 5
}
